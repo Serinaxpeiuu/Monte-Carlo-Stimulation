{
 "cells": [
  {
   "cell_type": "code",
   "execution_count": 26,
   "id": "75ad8c7a",
   "metadata": {},
   "outputs": [],
   "source": [
    "import pandas as pd\n",
    "import numpy as np\n",
    "import random\n",
    "import statsmodels.api as sm\n",
    "import graphviz as gr\n",
    "\n",
    "random.seed(10)"
   ]
  },
  {
   "cell_type": "markdown",
   "id": "8fbf9c8e",
   "metadata": {},
   "source": [
    "$y_i = \\alpha+\\tau*T_i+\\beta'*X_i+e_i$"
   ]
  },
  {
   "cell_type": "markdown",
   "id": "bf3ad11f",
   "metadata": {},
   "source": [
    "#### Preset Monte Carlo Functions"
   ]
  },
  {
   "cell_type": "code",
   "execution_count": 27,
   "id": "20ef3881",
   "metadata": {},
   "outputs": [
    {
     "ename": "SyntaxError",
     "evalue": "invalid syntax (Temp/ipykernel_7352/2168340179.py, line 18)",
     "output_type": "error",
     "traceback": [
      "\u001b[1;36m  File \u001b[1;32m\"C:\\Users\\SERINA~1\\AppData\\Local\\Temp/ipykernel_7352/2168340179.py\"\u001b[1;36m, line \u001b[1;32m18\u001b[0m\n\u001b[1;33m    elif setting == 2: # The case where X is a confounder\u001b[0m\n\u001b[1;37m    ^\u001b[0m\n\u001b[1;31mSyntaxError\u001b[0m\u001b[1;31m:\u001b[0m invalid syntax\n"
     ]
    }
   ],
   "source": [
    "### Monte Carlo controlled scenario ###\n",
    "\n",
    "class mc_control(): #https://www.geeksforgeeks.org/__init__-in-python/\n",
    "    \n",
    "    def __init__(self, reps):\n",
    "        self.reps = reps\n",
    "        \n",
    "    def simulation(self, alpha, tau, err, n):\n",
    "        mean = 10\n",
    "        sd = 5\n",
    "        beta = 2\n",
    "        \n",
    "#         if setting == 1: # The case where X is a covariate\n",
    "        X = np.random.normal(mean,sd,n) \n",
    "        T = np.random.binomial(1,0.5,n)\n",
    "        Y = np.random.normal(alpha + tau*T + beta*X,sd).astype(int)\n",
    "            \n",
    "        elif setting == 2: # The case where X is a confounder\n",
    "            X = np.random.normal(mean,sd,n)\n",
    "            T = np.random.binomial(1,1/(1+abs(X)),n)\n",
    "            Y = np.random.normal(alpha + tau*T + beta*X,sd).astype(int)\n",
    "            \n",
    "        elif setting == 3: # The case where X is a selection bias\n",
    "            X = np.random.normal(np.mean(T)*np.mean(Y),sd,n)\n",
    "            T = np.random.binomial(1,0.5,n)\n",
    "            Y = np.random.normal(alpha + tau*T,sd).astype(int)\n",
    "            \n",
    "        return(Y,T)\n",
    "    \n",
    "    def ols_reg(self, Y, T): #https://www.statsmodels.org/dev/examples/notebooks/generated/ols.html\n",
    "        model = sm.OLS(Y, sm.add_constant(T))\n",
    "        results = model.fit()\n",
    "        \n",
    "        return results.params\n",
    "    \n",
    "    def ols_with_simulation(self, alpha, tau, err, n):\n",
    "        bias = []\n",
    "        RMSE = []\n",
    "        tau_est = []\n",
    "        \n",
    "        for r in range(self.reps):\n",
    "            Y,T = self.simulation(alpha, tau, err, n)\n",
    "            alpha_hat, tau_hat = self.ols_reg(Y,T)\n",
    "            y_hat = alpha_hat + tau_hat*T\n",
    "            tau_est = tau_est + [tau_hat]\n",
    "            bias = bias + [np.mean(Y==1) - np.mean(Y==0)]\n",
    "            RMSE = [np.sqrt(np.mean((Y-y_hat)**2))]\n",
    "            \n",
    "        return bias, RMSE, tau_est\n",
    "    \n",
    "    def conclusion(self, alpha, tau, err, n):\n",
    "        bias, RMSE, tau_est = self.ols_with_simulation(alpha, tau, err, n)\n",
    "        print(f'bias= {np.mean(bias): } \\n')\n",
    "        print(f'RMSE= {np.mean(RMSE): } \\n')\n",
    "        print(f'Treatment Effect= {np.mean(tau_est): } \\n')"
   ]
  },
  {
   "cell_type": "code",
   "execution_count": 28,
   "id": "e4c15e9d",
   "metadata": {},
   "outputs": [
    {
     "ename": "SyntaxError",
     "evalue": "invalid syntax (Temp/ipykernel_7352/2800608709.py, line 16)",
     "output_type": "error",
     "traceback": [
      "\u001b[1;36m  File \u001b[1;32m\"C:\\Users\\SERINA~1\\AppData\\Local\\Temp/ipykernel_7352/2800608709.py\"\u001b[1;36m, line \u001b[1;32m16\u001b[0m\n\u001b[1;33m    elif setting == 2: # The case where X is a confounder\u001b[0m\n\u001b[1;37m    ^\u001b[0m\n\u001b[1;31mSyntaxError\u001b[0m\u001b[1;31m:\u001b[0m invalid syntax\n"
     ]
    }
   ],
   "source": [
    "### Monte Carlo not-controlled scenario ###\n",
    "class mc_no_control(): #https://www.geeksforgeeks.org/__init__-in-python/\n",
    "    \n",
    "    def __init__(self, reps):\n",
    "        self.reps = reps\n",
    "        \n",
    "    def simulation(self, alpha, tau, beta, err, n):\n",
    "        mean = 10\n",
    "        sd = 5\n",
    "        \n",
    "#         if setting == 1: # The case where X is a covariate\n",
    "        X = np.random.normal(mean,sd,n) \n",
    "        T = np.random.binomial(1,0.5,n)\n",
    "        Y = np.random.normal(alpha + tau*T + beta*X,sd).astype(int)\n",
    "            \n",
    "        elif setting == 2: # The case where X is a confounder\n",
    "            X = np.random.normal(mean,sd,n)\n",
    "            T = np.random.binomial(1,1/(1+abs(X)),n)\n",
    "            Y = np.random.normal(alpha + tau*T + beta*X,sd).astype(int)\n",
    "            \n",
    "        elif setting == 3: # The case where X is a selection bias\n",
    "            X = np.random.normal(np.mean(T)*np.mean(Y),sd,n)\n",
    "            T = np.random.binomial(1,0.5,n)\n",
    "            Y = np.random.normal(alpha + tau*T,sd).astype(int)\n",
    "            \n",
    "        return(Y,T)\n",
    "    \n",
    "    def ols_reg(self, Y, T): #https://www.statsmodels.org/dev/examples/notebooks/generated/ols.html\n",
    "        model = sm.OLS(Y, sm.add_constant(T))\n",
    "        results = model.fit()\n",
    "        \n",
    "        return results.params\n",
    "    \n",
    "    def ols_with_simulation(self, alpha, tau, beta, err, n):\n",
    "        bias = []\n",
    "        RMSE = []\n",
    "        tau_est = []\n",
    "        \n",
    "        for r in range(self.reps):\n",
    "            Y,T = self.simulation(alpha, tau, beta, err, n)\n",
    "            alpha_hat, tau_hat = self.ols_reg(Y,T)\n",
    "            y_hat = alpha_hat + tau_hat*T\n",
    "            tau_est = tau_est + [tau_hat]\n",
    "            bias = bias + [np.mean(Y==1) - np.mean(Y==0)]\n",
    "            RMSE = [np.sqrt(np.mean((Y-y_hat)**2))]\n",
    "            \n",
    "        return bias, RMSE, tau_est\n",
    "    \n",
    "    def conclusion(self, alpha, tau, beta, err, n):\n",
    "        bias, RMSE, tau_est = self.ols_with_simulation(alpha, tau, beta, err, n)\n",
    "        print(f'bias= {np.mean(bias): } \\n')\n",
    "        print(f'RMSE= {np.mean(RMSE): } \\n')\n",
    "        print(f'Treatment Effect= {np.mean(tau_est): } \\n')"
   ]
  },
  {
   "cell_type": "markdown",
   "id": "671ef89b",
   "metadata": {},
   "source": [
    "### Question 1"
   ]
  },
  {
   "cell_type": "markdown",
   "id": "736a7a0f",
   "metadata": {},
   "source": [
    "##### 1.1 Stimulate DGP"
   ]
  },
  {
   "cell_type": "code",
   "execution_count": 29,
   "id": "13b8e853",
   "metadata": {},
   "outputs": [],
   "source": [
    "#Let\n",
    "n = 100\n",
    "mean = 10\n",
    "sd = 5\n",
    "alpha = 5\n",
    "tau = 4\n",
    "beta = 2\n",
    "\n",
    "#Generate\n",
    "X = np.random.normal(mean,sd,n)\n",
    "T = np.random.binomial(1,0.5,n)\n",
    "Y = np.random.normal(alpha + tau*T + beta*X,sd).astype(int)"
   ]
  },
  {
   "cell_type": "markdown",
   "id": "8427036e",
   "metadata": {},
   "source": [
    "##### 1.2 DAG Illustration"
   ]
  },
  {
   "cell_type": "code",
   "execution_count": 30,
   "id": "67b54472",
   "metadata": {},
   "outputs": [
    {
     "data": {
      "image/svg+xml": [
       "<?xml version=\"1.0\" encoding=\"UTF-8\" standalone=\"no\"?>\r\n",
       "<!DOCTYPE svg PUBLIC \"-//W3C//DTD SVG 1.1//EN\"\r\n",
       " \"http://www.w3.org/Graphics/SVG/1.1/DTD/svg11.dtd\">\r\n",
       "<!-- Generated by graphviz version 2.38.0 (20140413.2041)\r\n",
       " -->\r\n",
       "<!-- Title: %3 Pages: 1 -->\r\n",
       "<svg width=\"134pt\" height=\"116pt\"\r\n",
       " viewBox=\"0.00 0.00 134.00 116.00\" xmlns=\"http://www.w3.org/2000/svg\" xmlns:xlink=\"http://www.w3.org/1999/xlink\">\r\n",
       "<g id=\"graph0\" class=\"graph\" transform=\"scale(1 1) rotate(0) translate(4 112)\">\r\n",
       "<title>%3</title>\r\n",
       "<polygon fill=\"white\" stroke=\"none\" points=\"-4,4 -4,-112 130,-112 130,4 -4,4\"/>\r\n",
       "<!-- X -->\r\n",
       "<g id=\"node1\" class=\"node\"><title>X</title>\r\n",
       "<ellipse fill=\"none\" stroke=\"black\" cx=\"27\" cy=\"-90\" rx=\"27\" ry=\"18\"/>\r\n",
       "<text text-anchor=\"middle\" x=\"27\" y=\"-86.3\" font-family=\"Times New Roman,serif\" font-size=\"14.00\">X</text>\r\n",
       "</g>\r\n",
       "<!-- Y -->\r\n",
       "<g id=\"node2\" class=\"node\"><title>Y</title>\r\n",
       "<ellipse fill=\"none\" stroke=\"black\" cx=\"63\" cy=\"-18\" rx=\"27\" ry=\"18\"/>\r\n",
       "<text text-anchor=\"middle\" x=\"63\" y=\"-14.3\" font-family=\"Times New Roman,serif\" font-size=\"14.00\">Y</text>\r\n",
       "</g>\r\n",
       "<!-- X&#45;&gt;Y -->\r\n",
       "<g id=\"edge1\" class=\"edge\"><title>X&#45;&gt;Y</title>\r\n",
       "<path fill=\"none\" stroke=\"black\" d=\"M35.3496,-72.7646C39.7115,-64.2831 45.1469,-53.7144 50.0413,-44.1974\"/>\r\n",
       "<polygon fill=\"black\" stroke=\"black\" points=\"53.2346,-45.6409 54.6957,-35.1473 47.0096,-42.4395 53.2346,-45.6409\"/>\r\n",
       "</g>\r\n",
       "<!-- T -->\r\n",
       "<g id=\"node3\" class=\"node\"><title>T</title>\r\n",
       "<ellipse fill=\"none\" stroke=\"black\" cx=\"99\" cy=\"-90\" rx=\"27\" ry=\"18\"/>\r\n",
       "<text text-anchor=\"middle\" x=\"99\" y=\"-86.3\" font-family=\"Times New Roman,serif\" font-size=\"14.00\">T</text>\r\n",
       "</g>\r\n",
       "<!-- T&#45;&gt;Y -->\r\n",
       "<g id=\"edge2\" class=\"edge\"><title>T&#45;&gt;Y</title>\r\n",
       "<path fill=\"none\" stroke=\"black\" d=\"M90.6504,-72.7646C86.2885,-64.2831 80.8531,-53.7144 75.9587,-44.1974\"/>\r\n",
       "<polygon fill=\"black\" stroke=\"black\" points=\"78.9904,-42.4395 71.3043,-35.1473 72.7654,-45.6409 78.9904,-42.4395\"/>\r\n",
       "</g>\r\n",
       "</g>\r\n",
       "</svg>\r\n"
      ],
      "text/plain": [
       "<graphviz.dot.Digraph at 0x15f8127b370>"
      ]
     },
     "execution_count": 30,
     "metadata": {},
     "output_type": "execute_result"
    }
   ],
   "source": [
    "g = gr.Digraph()\n",
    "g.edge(\"X\", \"Y\")\n",
    "g.edge(\"T\", \"Y\")\n",
    "g"
   ]
  },
  {
   "cell_type": "markdown",
   "id": "2b206d4d",
   "metadata": {},
   "source": [
    "##### 1.3 Monte Carlo"
   ]
  },
  {
   "cell_type": "code",
   "execution_count": 31,
   "id": "2fff8e3c",
   "metadata": {},
   "outputs": [
    {
     "name": "stdout",
     "output_type": "stream",
     "text": [
      "bias= -0.0013720000000000002 \n",
      "\n",
      "RMSE=  12.409174285541557 \n",
      "\n",
      "Treatment Effect=  4.009045838269356 \n",
      "\n"
     ]
    }
   ],
   "source": [
    "setting = 1\n",
    "mc_a_100 = mc_control(10000)\n",
    "mc_a_100.conclusion(5,4,1,100)"
   ]
  },
  {
   "cell_type": "code",
   "execution_count": 32,
   "id": "11539ca4",
   "metadata": {},
   "outputs": [
    {
     "name": "stdout",
     "output_type": "stream",
     "text": [
      "bias= -0.0013381 \n",
      "\n",
      "RMSE=  11.422538842222206 \n",
      "\n",
      "Treatment Effect=  3.9859698488967594 \n",
      "\n"
     ]
    }
   ],
   "source": [
    "setting = 1\n",
    "mc_a_100 = mc_no_control(10000)\n",
    "mc_a_100.conclusion(5,4,2,1,1000)"
   ]
  },
  {
   "cell_type": "code",
   "execution_count": 33,
   "id": "7289475b",
   "metadata": {},
   "outputs": [
    {
     "name": "stdout",
     "output_type": "stream",
     "text": [
      "bias= -0.00135 \n",
      "\n",
      "RMSE=  9.692522891383854 \n",
      "\n",
      "Treatment Effect=  3.9718933439347905 \n",
      "\n"
     ]
    }
   ],
   "source": [
    "setting = 1\n",
    "mc_b_100 = mc_control(10000)\n",
    "mc_b_100.conclusion(5,4,1,100)"
   ]
  },
  {
   "cell_type": "code",
   "execution_count": 34,
   "id": "443b57ed",
   "metadata": {},
   "outputs": [
    {
     "name": "stdout",
     "output_type": "stream",
     "text": [
      "bias= -0.0014869999999999998 \n",
      "\n",
      "RMSE=  8.886394094344455 \n",
      "\n",
      "Treatment Effect=  3.983357787073332 \n",
      "\n"
     ]
    }
   ],
   "source": [
    "setting = 1\n",
    "mc_b_1000 = mc_no_control(10000)\n",
    "mc_b_1000.conclusion(5,4,2,1,100)"
   ]
  },
  {
   "cell_type": "markdown",
   "id": "3bdd982c",
   "metadata": {},
   "source": [
    "##### 1.4 Example"
   ]
  },
  {
   "cell_type": "markdown",
   "id": "832a6a76",
   "metadata": {},
   "source": [
    "Y: average housing price in a specific area <br>\n",
    "X: average housing income in the respective region <br>\n",
    "T: whether the area is identified as opportunity zone (targeted for gentrification)"
   ]
  },
  {
   "cell_type": "markdown",
   "id": "1ddcdab1",
   "metadata": {},
   "source": [
    "### Question 2"
   ]
  },
  {
   "cell_type": "markdown",
   "id": "a66e1a84",
   "metadata": {},
   "source": [
    "##### 2.1 Stimulate DGP"
   ]
  },
  {
   "cell_type": "code",
   "execution_count": 35,
   "id": "76092c94",
   "metadata": {},
   "outputs": [],
   "source": [
    "#Let\n",
    "n = 100\n",
    "mean = 10\n",
    "sd = 5\n",
    "alpha = 5\n",
    "tau = 4\n",
    "beta = 2\n",
    "\n",
    "#Generate\n",
    "X = np.random.normal(mean,sd,n)\n",
    "T = np.random.binomial(1,1/(1+abs(X)),n)\n",
    "Y = np.random.normal(alpha + tau*T + beta*X,sd).astype(int)"
   ]
  },
  {
   "cell_type": "markdown",
   "id": "93d9042f",
   "metadata": {},
   "source": [
    "##### 2.2 DAG Illustration"
   ]
  },
  {
   "cell_type": "code",
   "execution_count": 36,
   "id": "4d578951",
   "metadata": {},
   "outputs": [
    {
     "data": {
      "image/svg+xml": [
       "<?xml version=\"1.0\" encoding=\"UTF-8\" standalone=\"no\"?>\r\n",
       "<!DOCTYPE svg PUBLIC \"-//W3C//DTD SVG 1.1//EN\"\r\n",
       " \"http://www.w3.org/Graphics/SVG/1.1/DTD/svg11.dtd\">\r\n",
       "<!-- Generated by graphviz version 2.38.0 (20140413.2041)\r\n",
       " -->\r\n",
       "<!-- Title: %3 Pages: 1 -->\r\n",
       "<svg width=\"89pt\" height=\"188pt\"\r\n",
       " viewBox=\"0.00 0.00 89.00 188.00\" xmlns=\"http://www.w3.org/2000/svg\" xmlns:xlink=\"http://www.w3.org/1999/xlink\">\r\n",
       "<g id=\"graph0\" class=\"graph\" transform=\"scale(1 1) rotate(0) translate(4 184)\">\r\n",
       "<title>%3</title>\r\n",
       "<polygon fill=\"white\" stroke=\"none\" points=\"-4,4 -4,-184 85,-184 85,4 -4,4\"/>\r\n",
       "<!-- X -->\r\n",
       "<g id=\"node1\" class=\"node\"><title>X</title>\r\n",
       "<ellipse fill=\"none\" stroke=\"black\" cx=\"54\" cy=\"-162\" rx=\"27\" ry=\"18\"/>\r\n",
       "<text text-anchor=\"middle\" x=\"54\" y=\"-158.3\" font-family=\"Times New Roman,serif\" font-size=\"14.00\">X</text>\r\n",
       "</g>\r\n",
       "<!-- T -->\r\n",
       "<g id=\"node2\" class=\"node\"><title>T</title>\r\n",
       "<ellipse fill=\"none\" stroke=\"black\" cx=\"27\" cy=\"-90\" rx=\"27\" ry=\"18\"/>\r\n",
       "<text text-anchor=\"middle\" x=\"27\" y=\"-86.3\" font-family=\"Times New Roman,serif\" font-size=\"14.00\">T</text>\r\n",
       "</g>\r\n",
       "<!-- X&#45;&gt;T -->\r\n",
       "<g id=\"edge1\" class=\"edge\"><title>X&#45;&gt;T</title>\r\n",
       "<path fill=\"none\" stroke=\"black\" d=\"M47.6014,-144.411C44.4864,-136.335 40.6663,-126.431 37.1654,-117.355\"/>\r\n",
       "<polygon fill=\"black\" stroke=\"black\" points=\"40.4045,-116.027 33.5403,-107.956 33.8735,-118.546 40.4045,-116.027\"/>\r\n",
       "</g>\r\n",
       "<!-- Y -->\r\n",
       "<g id=\"node3\" class=\"node\"><title>Y</title>\r\n",
       "<ellipse fill=\"none\" stroke=\"black\" cx=\"54\" cy=\"-18\" rx=\"27\" ry=\"18\"/>\r\n",
       "<text text-anchor=\"middle\" x=\"54\" y=\"-14.3\" font-family=\"Times New Roman,serif\" font-size=\"14.00\">Y</text>\r\n",
       "</g>\r\n",
       "<!-- X&#45;&gt;Y -->\r\n",
       "<g id=\"edge3\" class=\"edge\"><title>X&#45;&gt;Y</title>\r\n",
       "<path fill=\"none\" stroke=\"black\" d=\"M57.6538,-143.908C59.6758,-133.569 61.9808,-120.09 63,-108 64.3441,-92.0566 64.3441,-87.9434 63,-72 62.2834,-63.4991 60.9311,-54.3119 59.4884,-46.0122\"/>\r\n",
       "<polygon fill=\"black\" stroke=\"black\" points=\"62.9142,-45.2892 57.6538,-36.0925 56.0309,-46.5623 62.9142,-45.2892\"/>\r\n",
       "</g>\r\n",
       "<!-- T&#45;&gt;Y -->\r\n",
       "<g id=\"edge2\" class=\"edge\"><title>T&#45;&gt;Y</title>\r\n",
       "<path fill=\"none\" stroke=\"black\" d=\"M33.3986,-72.411C36.5136,-64.3352 40.3337,-54.4312 43.8346,-45.3547\"/>\r\n",
       "<polygon fill=\"black\" stroke=\"black\" points=\"47.1265,-46.5458 47.4597,-35.9562 40.5955,-44.0267 47.1265,-46.5458\"/>\r\n",
       "</g>\r\n",
       "</g>\r\n",
       "</svg>\r\n"
      ],
      "text/plain": [
       "<graphviz.dot.Digraph at 0x15f81ede280>"
      ]
     },
     "execution_count": 36,
     "metadata": {},
     "output_type": "execute_result"
    }
   ],
   "source": [
    "g = gr.Digraph()\n",
    "g.edge(\"X\", \"T\")\n",
    "g.edge(\"T\", \"Y\")\n",
    "g.edge(\"X\", \"Y\")\n",
    "g"
   ]
  },
  {
   "cell_type": "markdown",
   "id": "85e87e10",
   "metadata": {},
   "source": [
    "##### 2.3 Monte Carlo"
   ]
  },
  {
   "cell_type": "code",
   "execution_count": 37,
   "id": "e9a806f3",
   "metadata": {},
   "outputs": [
    {
     "name": "stdout",
     "output_type": "stream",
     "text": [
      "bias= -0.001143 \n",
      "\n",
      "RMSE=  10.053057325243593 \n",
      "\n",
      "Treatment Effect=  3.99530944731584 \n",
      "\n"
     ]
    }
   ],
   "source": [
    "setting = 2\n",
    "mc_a_100 = mc_control(10000)\n",
    "mc_a_100.conclusion(5,4,1,100)"
   ]
  },
  {
   "cell_type": "code",
   "execution_count": 39,
   "id": "9e267f04",
   "metadata": {},
   "outputs": [
    {
     "name": "stdout",
     "output_type": "stream",
     "text": [
      "bias= -0.0013529000000000002 \n",
      "\n",
      "RMSE=  11.180226599402275 \n",
      "\n",
      "Treatment Effect=  4.0004441833802575 \n",
      "\n"
     ]
    }
   ],
   "source": [
    "setting = 2\n",
    "mc_a_100 = mc_no_control(10000)\n",
    "mc_a_100.conclusion(5,4,2,1,1000)"
   ]
  },
  {
   "cell_type": "code",
   "execution_count": 40,
   "id": "b6613330",
   "metadata": {},
   "outputs": [
    {
     "name": "stdout",
     "output_type": "stream",
     "text": [
      "bias= -0.00135 \n",
      "\n",
      "RMSE=  11.60490437367792 \n",
      "\n",
      "Treatment Effect=  3.9574283585130106 \n",
      "\n"
     ]
    }
   ],
   "source": [
    "setting = 2\n",
    "mc_b_100 = mc_control(10000)\n",
    "mc_b_100.conclusion(5,4,1,100)"
   ]
  },
  {
   "cell_type": "code",
   "execution_count": 41,
   "id": "a280228e",
   "metadata": {},
   "outputs": [
    {
     "name": "stdout",
     "output_type": "stream",
     "text": [
      "bias= -0.0013810000000000003 \n",
      "\n",
      "RMSE=  10.874404864608467 \n",
      "\n",
      "Treatment Effect=  4.010143362203938 \n",
      "\n"
     ]
    }
   ],
   "source": [
    "setting = 2\n",
    "mc_b_1000 = mc_no_control(10000)\n",
    "mc_b_1000.conclusion(5,4,2,1,100)"
   ]
  },
  {
   "cell_type": "markdown",
   "id": "ead923f5",
   "metadata": {},
   "source": [
    "##### 2.4 Example"
   ]
  },
  {
   "cell_type": "markdown",
   "id": "544f1eab",
   "metadata": {},
   "source": [
    "Y: average salary <br>\n",
    "X: race <br>\n",
    "T: whether the person went to college"
   ]
  },
  {
   "cell_type": "markdown",
   "id": "d53ee3f7",
   "metadata": {},
   "source": [
    "### Question 3"
   ]
  },
  {
   "cell_type": "markdown",
   "id": "a8d8a6a8",
   "metadata": {},
   "source": [
    "##### 3.1 Stimulate DGP"
   ]
  },
  {
   "cell_type": "code",
   "execution_count": 44,
   "id": "4dacc029",
   "metadata": {},
   "outputs": [],
   "source": [
    "#Let\n",
    "n = 100\n",
    "mean = 10\n",
    "sd = 5\n",
    "alpha = 5\n",
    "tau = 4\n",
    "beta = 2\n",
    "\n",
    "#Generate\n",
    "X = np.random.normal(np.mean(T)*np.mean(Y),sd,n)\n",
    "T = np.random.binomial(1,0.5,n)\n",
    "Y = np.random.normal(alpha + tau*T,sd).astype(int)"
   ]
  },
  {
   "cell_type": "markdown",
   "id": "35954420",
   "metadata": {},
   "source": [
    "##### 3.2 DAG Illustration"
   ]
  },
  {
   "cell_type": "code",
   "execution_count": 45,
   "id": "e4c9b796",
   "metadata": {},
   "outputs": [
    {
     "data": {
      "image/svg+xml": [
       "<?xml version=\"1.0\" encoding=\"UTF-8\" standalone=\"no\"?>\r\n",
       "<!DOCTYPE svg PUBLIC \"-//W3C//DTD SVG 1.1//EN\"\r\n",
       " \"http://www.w3.org/Graphics/SVG/1.1/DTD/svg11.dtd\">\r\n",
       "<!-- Generated by graphviz version 2.38.0 (20140413.2041)\r\n",
       " -->\r\n",
       "<!-- Title: %3 Pages: 1 -->\r\n",
       "<svg width=\"90pt\" height=\"188pt\"\r\n",
       " viewBox=\"0.00 0.00 90.00 188.00\" xmlns=\"http://www.w3.org/2000/svg\" xmlns:xlink=\"http://www.w3.org/1999/xlink\">\r\n",
       "<g id=\"graph0\" class=\"graph\" transform=\"scale(1 1) rotate(0) translate(4 184)\">\r\n",
       "<title>%3</title>\r\n",
       "<polygon fill=\"white\" stroke=\"none\" points=\"-4,4 -4,-184 86,-184 86,4 -4,4\"/>\r\n",
       "<!-- T -->\r\n",
       "<g id=\"node1\" class=\"node\"><title>T</title>\r\n",
       "<ellipse fill=\"none\" stroke=\"black\" cx=\"27\" cy=\"-162\" rx=\"27\" ry=\"18\"/>\r\n",
       "<text text-anchor=\"middle\" x=\"27\" y=\"-158.3\" font-family=\"Times New Roman,serif\" font-size=\"14.00\">T</text>\r\n",
       "</g>\r\n",
       "<!-- X -->\r\n",
       "<g id=\"node2\" class=\"node\"><title>X</title>\r\n",
       "<ellipse fill=\"none\" stroke=\"black\" cx=\"27\" cy=\"-18\" rx=\"27\" ry=\"18\"/>\r\n",
       "<text text-anchor=\"middle\" x=\"27\" y=\"-14.3\" font-family=\"Times New Roman,serif\" font-size=\"14.00\">X</text>\r\n",
       "</g>\r\n",
       "<!-- T&#45;&gt;X -->\r\n",
       "<g id=\"edge1\" class=\"edge\"><title>T&#45;&gt;X</title>\r\n",
       "<path fill=\"none\" stroke=\"black\" d=\"M23.7517,-143.888C21.9542,-133.542 19.9053,-120.063 19,-108 17.8026,-92.0449 17.8026,-87.9551 19,-72 19.6366,-63.5179 20.8384,-54.3361 22.1208,-46.0356\"/>\r\n",
       "<polygon fill=\"black\" stroke=\"black\" points=\"25.5836,-46.5472 23.7517,-36.1119 18.6763,-45.412 25.5836,-46.5472\"/>\r\n",
       "</g>\r\n",
       "<!-- Y -->\r\n",
       "<g id=\"node3\" class=\"node\"><title>Y</title>\r\n",
       "<ellipse fill=\"none\" stroke=\"black\" cx=\"55\" cy=\"-90\" rx=\"27\" ry=\"18\"/>\r\n",
       "<text text-anchor=\"middle\" x=\"55\" y=\"-86.3\" font-family=\"Times New Roman,serif\" font-size=\"14.00\">Y</text>\r\n",
       "</g>\r\n",
       "<!-- T&#45;&gt;Y -->\r\n",
       "<g id=\"edge2\" class=\"edge\"><title>T&#45;&gt;Y</title>\r\n",
       "<path fill=\"none\" stroke=\"black\" d=\"M33.6356,-144.411C36.9134,-136.216 40.9442,-126.14 44.6181,-116.955\"/>\r\n",
       "<polygon fill=\"black\" stroke=\"black\" points=\"47.9477,-118.055 48.412,-107.47 41.4484,-115.455 47.9477,-118.055\"/>\r\n",
       "</g>\r\n",
       "<!-- Y&#45;&gt;X -->\r\n",
       "<g id=\"edge3\" class=\"edge\"><title>Y&#45;&gt;X</title>\r\n",
       "<path fill=\"none\" stroke=\"black\" d=\"M48.3644,-72.411C45.0866,-64.2164 41.0558,-54.1395 37.3819,-44.9548\"/>\r\n",
       "<polygon fill=\"black\" stroke=\"black\" points=\"40.5516,-43.4548 33.588,-35.4699 34.0523,-46.0546 40.5516,-43.4548\"/>\r\n",
       "</g>\r\n",
       "</g>\r\n",
       "</svg>\r\n"
      ],
      "text/plain": [
       "<graphviz.dot.Digraph at 0x15f81edeac0>"
      ]
     },
     "execution_count": 45,
     "metadata": {},
     "output_type": "execute_result"
    }
   ],
   "source": [
    "g = gr.Digraph()\n",
    "g.edge(\"T\", \"X\")\n",
    "g.edge(\"T\", \"Y\")\n",
    "g.edge(\"Y\", \"X\")\n",
    "g"
   ]
  },
  {
   "cell_type": "markdown",
   "id": "62d17076",
   "metadata": {},
   "source": [
    "##### 3.3 Monte Carlo"
   ]
  },
  {
   "cell_type": "code",
   "execution_count": 46,
   "id": "8ac38195",
   "metadata": {},
   "outputs": [
    {
     "name": "stdout",
     "output_type": "stream",
     "text": [
      "bias= -0.001395 \n",
      "\n",
      "RMSE=  11.452026014456848 \n",
      "\n",
      "Treatment Effect=  3.964627597126037 \n",
      "\n"
     ]
    }
   ],
   "source": [
    "setting = 3\n",
    "mc_a_100 = mc_control(10000)\n",
    "mc_a_100.conclusion(5,4,1,100)"
   ]
  },
  {
   "cell_type": "code",
   "execution_count": 47,
   "id": "a56bc31b",
   "metadata": {},
   "outputs": [
    {
     "name": "stdout",
     "output_type": "stream",
     "text": [
      "bias= -0.0013677 \n",
      "\n",
      "RMSE=  11.368471256027803 \n",
      "\n",
      "Treatment Effect=  3.989837129247256 \n",
      "\n"
     ]
    }
   ],
   "source": [
    "setting = 3\n",
    "mc_a_100 = mc_no_control(10000)\n",
    "mc_a_100.conclusion(5,4,2,1,1000)"
   ]
  },
  {
   "cell_type": "code",
   "execution_count": 48,
   "id": "ea02244c",
   "metadata": {},
   "outputs": [
    {
     "name": "stdout",
     "output_type": "stream",
     "text": [
      "bias= -0.0014190000000000001 \n",
      "\n",
      "RMSE=  10.513745089591628 \n",
      "\n",
      "Treatment Effect=  4.035653351834273 \n",
      "\n"
     ]
    }
   ],
   "source": [
    "setting = 3\n",
    "mc_b_100 = mc_control(10000)\n",
    "mc_b_100.conclusion(5,4,1,100)"
   ]
  },
  {
   "cell_type": "code",
   "execution_count": 49,
   "id": "d084bee2",
   "metadata": {},
   "outputs": [
    {
     "name": "stdout",
     "output_type": "stream",
     "text": [
      "bias= -0.0014529999999999999 \n",
      "\n",
      "RMSE=  12.321835719070268 \n",
      "\n",
      "Treatment Effect=  3.9505266440168874 \n",
      "\n"
     ]
    }
   ],
   "source": [
    "setting = 3\n",
    "mc_b_1000 = mc_no_control(10000)\n",
    "mc_b_1000.conclusion(5,4,2,1,100)"
   ]
  }
 ],
 "metadata": {
  "kernelspec": {
   "display_name": "Python 3 (ipykernel)",
   "language": "python",
   "name": "python3"
  },
  "language_info": {
   "codemirror_mode": {
    "name": "ipython",
    "version": 3
   },
   "file_extension": ".py",
   "mimetype": "text/x-python",
   "name": "python",
   "nbconvert_exporter": "python",
   "pygments_lexer": "ipython3",
   "version": "3.9.12"
  }
 },
 "nbformat": 4,
 "nbformat_minor": 5
}
